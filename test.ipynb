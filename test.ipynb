{
 "cells": [
  {
   "cell_type": "markdown",
   "id": "282b0ac3",
   "metadata": {},
   "source": [
    "# Simple Security and Fatigue Score Calculator\n",
    "\n",
    "This notebook calculates security and fatigue scores for a user-defined configuration vector."
   ]
  },
  {
   "cell_type": "code",
   "execution_count": 25,
   "id": "f0780cac",
   "metadata": {},
   "outputs": [],
   "source": [
    "import numpy as np\n",
    "import pandas as pd\n",
    "import matplotlib.pyplot as plt\n",
    "from security_env import SecurityEnv"
   ]
  },
  {
   "cell_type": "code",
   "execution_count": 26,
   "id": "ffd51873",
   "metadata": {},
   "outputs": [
    {
     "name": "stdout",
     "output_type": "stream",
     "text": [
      "Feature names: ['Familarity', 'Frequency of Password Changes', 'Difficulty Level Password', 'Effort Required Password', 'Perceived Importance Password', 'Password Uniqueness', 'Frequency of MFA prompts', 'Difficulty Level MFA', 'Effort Required MFA', 'Perceived Importance of MFA', 'Frequency of Security Warnings', 'Difficulty Level Security Warnings', 'Effort Required Security Warnings', 'Perceived Importance of Security Warnings', 'Warnings Response Behaviour', 'Hardware security key (FIDO2 token) or cryptographic device', 'On-device prompt or biometric', 'OTP via authenticator app', 'OTP via SMS/email', 'Secondary email/phone or security questions', 'No MFA enabled']\n",
      "Number of features: 21\n"
     ]
    }
   ],
   "source": [
    "# Initialize the environment\n",
    "env = SecurityEnv()\n",
    "print(f\"Number of features: {len(env.feature_names)}\")"
   ]
  },
  {
   "cell_type": "code",
   "execution_count": 27,
   "id": "6bf5ee19",
   "metadata": {},
   "outputs": [
    {
     "name": "stdout",
     "output_type": "stream",
     "text": [
      "Available features:\n",
      "0: Familarity (categorical) - Range: [0, 1, 2]\n",
      "1: Frequency of Password Changes (categorical) - Range: [1, 2, 3, 4, 5]\n",
      "2: Difficulty Level Password (categorical) - Range: [1, 2, 3, 4, 5]\n",
      "3: Effort Required Password (categorical) - Range: [1, 2, 3, 4, 5]\n",
      "4: Perceived Importance Password (categorical) - Range: [1, 2, 3, 4, 5]\n",
      "5: Password Uniqueness (categorical) - Range: [0.2, 0.5, 0.8, 1.0]\n",
      "6: Frequency of MFA prompts (categorical) - Range: [1, 2, 3, 4, 5]\n",
      "7: Difficulty Level MFA (categorical) - Range: [1, 2, 3, 4, 5]\n",
      "8: Effort Required MFA (categorical) - Range: [1, 2, 3, 4, 5]\n",
      "9: Perceived Importance of MFA (categorical) - Range: [1, 2, 3, 4, 5]\n",
      "10: Frequency of Security Warnings (categorical) - Range: [1, 2, 3, 4, 5]\n",
      "11: Difficulty Level Security Warnings (categorical) - Range: [1, 2, 3, 4, 5]\n",
      "12: Effort Required Security Warnings (categorical) - Range: [1, 2, 3, 4, 5]\n",
      "13: Perceived Importance of Security Warnings (categorical) - Range: [1, 2, 3, 4, 5]\n",
      "14: Warnings Response Behaviour (categorical) - Range: [20, 40, 60, 80, 100]\n",
      "15: Hardware security key (FIDO2 token) or cryptographic device (binary) - Range: [0, 1]\n",
      "16: On-device prompt or biometric (binary) - Range: [0, 1]\n",
      "17: OTP via authenticator app (binary) - Range: [0, 1]\n",
      "18: OTP via SMS/email (binary) - Range: [0, 1]\n",
      "19: Secondary email/phone or security questions (binary) - Range: [0, 1]\n",
      "20: No MFA enabled (binary) - Range: [0, 1]\n"
     ]
    }
   ],
   "source": [
    "# Display feature names and their indices for reference\n",
    "print(\"Available features:\")\n",
    "for i, feature_name in enumerate(env.feature_names):\n",
    "    feature_type = env.feature_types[feature_name]\n",
    "    feature_range = env.feature_ranges[feature_name]\n",
    "    print(f\"{i}: {feature_name} ({feature_type}) - Range: {feature_range}\")"
   ]
  },
  {
   "cell_type": "markdown",
   "id": "a84618b0",
   "metadata": {},
   "source": [
    "## Calculate Security and Fatigue Scores\n",
    "\n",
    "Define a simple function to calculate scores for a configuration vector."
   ]
  },
  {
   "cell_type": "code",
   "execution_count": null,
   "id": "b1a29a2b",
   "metadata": {},
   "outputs": [],
   "source": [
    "def calculate_scores(config_vector):\n",
    "    \"\"\"Calculate security and fatigue scores for a configuration vector.\"\"\"\n",
    "    # Convert to numpy array if it's not already\n",
    "    config = np.array(config_vector)\n",
    "    \n",
    "    # Check if the config vector has the correct length\n",
    "    if len(config) != len(env.feature_names):\n",
    "        raise ValueError(f\"Configuration vector must have length {len(env.feature_names)}\")\n",
    "    \n",
    "    # Calculate the security score\n",
    "    security_score = env._compute_security_score(config)\n",
    "    \n",
    "    # Calculate the fatigue score\n",
    "    fatigue_score = env._compute_fatigue_score(config)\n",
    "    \n",
    "    # Get the actual feature values\n",
    "    feature_values = {}\n",
    "    for i, feature_name in enumerate(env.feature_names):\n",
    "        value = env._map_action_to_feature_range(config[i], feature_name)\n",
    "        feature_values[feature_name] = value\n",
    "    \n",
    "    return {\n",
    "        'security_score': security_score,\n",
    "        'fatigue_score': fatigue_score,\n",
    "        'feature_values': feature_values\n",
    "    }"
   ]
  },
  {
   "cell_type": "markdown",
   "id": "2ca27812",
   "metadata": {},
   "source": [
    "## Define Your Configuration Vector\n",
    "\n",
    "Enter your configuration vector below. Each value corresponds to a feature index."
   ]
  },
  {
   "cell_type": "code",
   "execution_count": 58,
   "id": "bb3ff405",
   "metadata": {},
   "outputs": [
    {
     "name": "stdout",
     "output_type": "stream",
     "text": [
      "Configuration vector length: 21\n"
     ]
    }
   ],
   "source": [
    "# Define your configuration vector here\n",
    "# Each number is the index for the corresponding feature\n",
    "my_config = np.array([\n",
    "    2,  # Familarity\n",
    "\n",
    "    4,  # Frequency of Password Changes\n",
    "    4,  # Difficulty Level Password\n",
    "    4,  # Effort Required Password\n",
    "    0,  # Perceived Importance Password\n",
    "    0,  # Password Uniqueness\n",
    "\n",
    "    4,  # Frequency of MFA prompts\n",
    "    4,  # Difficulty Level MFA\n",
    "    4,  # Effort Required MFA\n",
    "    0,  # Perceived Importance of MFA\n",
    "\n",
    "    4,  # Frequency of Security Warnings\n",
    "    4,  # Difficulty Level Security Warnings\n",
    "    4,  # Effort Required Security Warnings\n",
    "    0,  # Perceived Importance of Security Warnings\n",
    "    0,  # Warnings Response Behaviour\n",
    "\n",
    "    1,  # Hardware security key (FIDO2 token) or cryptographic device\n",
    "    1,  # On-device prompt or biometric\n",
    "    1,  # OTP via authenticator app\n",
    "    1,  # OTP via SMS/email\n",
    "    1,  # Secondary email/phone or security questions\n",
    "    0   # No MFA enabled\n",
    "])\n",
    "\n",
    "print(f\"Configuration vector length: {len(my_config)}\")"
   ]
  },
  {
   "cell_type": "markdown",
   "id": "fa010923",
   "metadata": {},
   "source": [
    "## Calculate and Display Results"
   ]
  },
  {
   "cell_type": "code",
   "execution_count": 59,
   "id": "f2efa3c8",
   "metadata": {},
   "outputs": [
    {
     "name": "stdout",
     "output_type": "stream",
     "text": [
      "Security Score: 20.00 / 100\n",
      "Fatigue Score: 100.00 / 100\n"
     ]
    },
    {
     "data": {
      "image/png": "[encoded data removed]",
      "text/plain": [
       "<Figure size 800x400 with 1 Axes>"
      ]
     },
     "metadata": {},
     "output_type": "display_data"
    },
    {
     "name": "stdout",
     "output_type": "stream",
     "text": [
      "\n",
      "Feature Values:\n"
     ]
    },
    {
     "data": {
      "text/html": [
       "<div>\n",
       "<style scoped>\n",
       "    .dataframe tbody tr th:only-of-type {\n",
       "        vertical-align: middle;\n",
       "    }\n",
       "\n",
       "    .dataframe tbody tr th {\n",
       "        vertical-align: top;\n",
       "    }\n",
       "\n",
       "    .dataframe thead th {\n",
       "        text-align: right;\n",
       "    }\n",
       "</style>\n",
       "<table border=\"1\" class=\"dataframe\">\n",
       "  <thead>\n",
       "    <tr style=\"text-align: right;\">\n",
       "      <th></th>\n",
       "      <th>Feature</th>\n",
       "      <th>Value</th>\n",
       "    </tr>\n",
       "  </thead>\n",
       "  <tbody>\n",
       "    <tr>\n",
       "      <th>0</th>\n",
       "      <td>Familarity</td>\n",
       "      <td>2.0</td>\n",
       "    </tr>\n",
       "    <tr>\n",
       "      <th>1</th>\n",
       "      <td>Frequency of Password Changes</td>\n",
       "      <td>5.0</td>\n",
       "    </tr>\n",
       "    <tr>\n",
       "      <th>2</th>\n",
       "      <td>Difficulty Level Password</td>\n",
       "      <td>5.0</td>\n",
       "    </tr>\n",
       "    <tr>\n",
       "      <th>3</th>\n",
       "      <td>Effort Required Password</td>\n",
       "      <td>5.0</td>\n",
       "    </tr>\n",
       "    <tr>\n",
       "      <th>4</th>\n",
       "      <td>Perceived Importance Password</td>\n",
       "      <td>1.0</td>\n",
       "    </tr>\n",
       "    <tr>\n",
       "      <th>5</th>\n",
       "      <td>Password Uniqueness</td>\n",
       "      <td>0.2</td>\n",
       "    </tr>\n",
       "    <tr>\n",
       "      <th>6</th>\n",
       "      <td>Frequency of MFA prompts</td>\n",
       "      <td>5.0</td>\n",
       "    </tr>\n",
       "    <tr>\n",
       "      <th>7</th>\n",
       "      <td>Difficulty Level MFA</td>\n",
       "      <td>5.0</td>\n",
       "    </tr>\n",
       "    <tr>\n",
       "      <th>8</th>\n",
       "      <td>Effort Required MFA</td>\n",
       "      <td>5.0</td>\n",
       "    </tr>\n",
       "    <tr>\n",
       "      <th>9</th>\n",
       "      <td>Perceived Importance of MFA</td>\n",
       "      <td>1.0</td>\n",
       "    </tr>\n",
       "    <tr>\n",
       "      <th>10</th>\n",
       "      <td>Frequency of Security Warnings</td>\n",
       "      <td>5.0</td>\n",
       "    </tr>\n",
       "    <tr>\n",
       "      <th>11</th>\n",
       "      <td>Difficulty Level Security Warnings</td>\n",
       "      <td>5.0</td>\n",
       "    </tr>\n",
       "    <tr>\n",
       "      <th>12</th>\n",
       "      <td>Effort Required Security Warnings</td>\n",
       "      <td>5.0</td>\n",
       "    </tr>\n",
       "    <tr>\n",
       "      <th>13</th>\n",
       "      <td>Perceived Importance of Security Warnings</td>\n",
       "      <td>1.0</td>\n",
       "    </tr>\n",
       "    <tr>\n",
       "      <th>14</th>\n",
       "      <td>Warnings Response Behaviour</td>\n",
       "      <td>20.0</td>\n",
       "    </tr>\n",
       "    <tr>\n",
       "      <th>15</th>\n",
       "      <td>Hardware security key (FIDO2 token) or cryptog...</td>\n",
       "      <td>1.0</td>\n",
       "    </tr>\n",
       "    <tr>\n",
       "      <th>16</th>\n",
       "      <td>On-device prompt or biometric</td>\n",
       "      <td>1.0</td>\n",
       "    </tr>\n",
       "    <tr>\n",
       "      <th>17</th>\n",
       "      <td>OTP via authenticator app</td>\n",
       "      <td>1.0</td>\n",
       "    </tr>\n",
       "    <tr>\n",
       "      <th>18</th>\n",
       "      <td>OTP via SMS/email</td>\n",
       "      <td>1.0</td>\n",
       "    </tr>\n",
       "    <tr>\n",
       "      <th>19</th>\n",
       "      <td>Secondary email/phone or security questions</td>\n",
       "      <td>1.0</td>\n",
       "    </tr>\n",
       "    <tr>\n",
       "      <th>20</th>\n",
       "      <td>No MFA enabled</td>\n",
       "      <td>0.0</td>\n",
       "    </tr>\n",
       "  </tbody>\n",
       "</table>\n",
       "</div>"
      ],
      "text/plain": [
       "                                              Feature  Value\n",
       "0                                          Familarity    2.0\n",
       "1                       Frequency of Password Changes    5.0\n",
       "2                           Difficulty Level Password    5.0\n",
       "3                            Effort Required Password    5.0\n",
       "4                       Perceived Importance Password    1.0\n",
       "5                                 Password Uniqueness    0.2\n",
       "6                            Frequency of MFA prompts    5.0\n",
       "7                                Difficulty Level MFA    5.0\n",
       "8                                 Effort Required MFA    5.0\n",
       "9                         Perceived Importance of MFA    1.0\n",
       "10                     Frequency of Security Warnings    5.0\n",
       "11                 Difficulty Level Security Warnings    5.0\n",
       "12                  Effort Required Security Warnings    5.0\n",
       "13          Perceived Importance of Security Warnings    1.0\n",
       "14                        Warnings Response Behaviour   20.0\n",
       "15  Hardware security key (FIDO2 token) or cryptog...    1.0\n",
       "16                      On-device prompt or biometric    1.0\n",
       "17                          OTP via authenticator app    1.0\n",
       "18                                  OTP via SMS/email    1.0\n",
       "19        Secondary email/phone or security questions    1.0\n",
       "20                                     No MFA enabled    0.0"
      ]
     },
     "metadata": {},
     "output_type": "display_data"
    }
   ],
   "source": [
    "def analyze_config(config_vector):\n",
    "    \"\"\"Calculate and display scores for a configuration vector.\"\"\"\n",
    "    try:\n",
    "        result = calculate_scores(config_vector)\n",
    "        \n",
    "        # Print scores\n",
    "        print(f\"Security Score: {result['security_score']:.2f} / 100\")\n",
    "        print(f\"Fatigue Score: {result['fatigue_score']:.2f} / 100\")\n",
    "        \n",
    "        # Create a simple bar chart\n",
    "        scores = [result['security_score'], result['fatigue_score']]\n",
    "        labels = ['Security Score', 'Fatigue Score']\n",
    "        colors = ['green', 'red']\n",
    "        \n",
    "        plt.figure(figsize=(8, 4))\n",
    "        plt.bar(labels, scores, color=colors)\n",
    "        plt.ylim(0, 100)\n",
    "        plt.title('Security vs. Fatigue Scores')\n",
    "        plt.ylabel('Score (0-100)')\n",
    "        plt.show()\n",
    "        \n",
    "        # Display feature values\n",
    "        print(\"\\nFeature Values:\")\n",
    "        df = pd.DataFrame({\n",
    "            'Feature': list(result['feature_values'].keys()),\n",
    "            'Value': list(result['feature_values'].values())\n",
    "        })\n",
    "        display(df)\n",
    "        \n",
    "        return result\n",
    "    except Exception as e:\n",
    "        print(f\"Error: {e}\")\n",
    "        return None\n",
    "\n",
    "# Analyze the configuration\n",
    "results = analyze_config(my_config)"
   ]
  },
  {
   "cell_type": "markdown",
   "id": "b9ca4e87",
   "metadata": {},
   "source": [
    "## Try Different Configuration\n",
    "\n",
    "You can easily test another configuration by defining a new vector and analyzing it."
   ]
  },
  {
   "cell_type": "code",
   "execution_count": null,
   "id": "8062e779",
   "metadata": {},
   "outputs": [],
   "source": [
    "# Example: Define another configuration\n",
    "another_config = np.array([\n",
    "    2,  # Familarity - Advanced\n",
    "    4,  # Frequency of Password Changes - Annually\n",
    "    4,  # Difficulty Level Password - Very difficult\n",
    "    1,  # Effort Required Password - Low\n",
    "    4,  # Perceived Importance Password - High\n",
    "    3,  # Password Uniqueness - Very unique\n",
    "    0,  # Frequency of MFA prompts - Daily\n",
    "    1,  # Difficulty Level MFA - Easy\n",
    "    1,  # Effort Required MFA - Low\n",
    "    4,  # Perceived Importance of MFA - High\n",
    "    2,  # Frequency of Security Warnings - Monthly\n",
    "    2,  # Difficulty Level Security Warnings - Moderate\n",
    "    1,  # Effort Required Security Warnings - Low\n",
    "    4,  # Perceived Importance of Security Warnings - High\n",
    "    4,  # Warnings Response Behaviour - High response (100)\n",
    "    1,  # Hardware security key (FIDO2 token) - Enabled\n",
    "    1,  # On-device prompt or biometric - Enabled\n",
    "    0,  # OTP via authenticator app - Disabled\n",
    "    0,  # OTP via SMS/email - Disabled\n",
    "    0,  # Secondary email/phone or security questions - Disabled\n",
    "    0   # No MFA enabled - Disabled\n",
    "])\n",
    "\n",
    "# Uncomment the line below to analyze this configuration\n",
    "# another_results = analyze_config(another_config)"
   ]
  }
 ],
 "metadata": {
  "kernelspec": {
   "display_name": "base",
   "language": "python",
   "name": "python3"
  },
  "language_info": {
   "codemirror_mode": {
    "name": "ipython",
    "version": 3
   },
   "file_extension": ".py",
   "mimetype": "text/x-python",
   "name": "python",
   "nbconvert_exporter": "python",
   "pygments_lexer": "ipython3",
   "version": "3.12.7"
  }
 },
 "nbformat": 4,
 "nbformat_minor": 5
}
